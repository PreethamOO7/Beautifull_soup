{
 "cells": [
  {
   "cell_type": "markdown",
   "metadata": {},
   "source": [
    "data.drop_duplicates(subset=[\"PrimaryImageAsset\"])"
   ]
  },
  {
   "cell_type": "code",
   "execution_count": 5,
   "metadata": {},
   "outputs": [],
   "source": [
    "import pandas as pd\n",
    "import numpy as np\n",
    "from bs4 import BeautifulSoup\n",
    "import urllib\n",
    "import urllib.request"
   ]
  },
  {
   "cell_type": "code",
   "execution_count": 6,
   "metadata": {},
   "outputs": [],
   "source": [
    "url=\"https://www.amazon.in/Mens-Tshirts-Polos/b?ie=UTF8&node=1968120031&ref_=nav_shopall_sbc_mfashion_tshirts\"\n",
    "page=urllib.request.urlopen(url)\n",
    "soup = BeautifulSoup(page,\"html.parser\")"
   ]
  },
  {
   "cell_type": "code",
   "execution_count": 3,
   "metadata": {},
   "outputs": [],
   "source": [
    "i=1\n",
    "for img in soup.findAll('img'):\n",
    "    temp=img.get('src')\n",
    "    if(temp[:1]==\"/\"):\n",
    "        image=\"https://www.amazon.in/Mens-Tshirts-Polos/b?ie=UTF8&node=1968120031&ref_=nav_shopall_sbc_mfashion_tshirts\" + temp\n",
    "    else:\n",
    "        image = temp\n",
    "    \n",
    "    \n",
    "    nametemp=img.get('alt')\n",
    "    if(str(nametemp)=='None'):\n",
    "        filename=str(i)\n",
    "        i=i+1\n",
    "    else:\n",
    "        filename=nametemp\n",
    "        \n",
    "        \n",
    "    imagefile = open(filename +  \".jpeg\",'wb')\n",
    "    imagefile.write(urllib.request.urlopen(image).read())\n",
    "    imagefile.close()"
   ]
  }
 ],
 "metadata": {
  "kernelspec": {
   "display_name": "Python 3",
   "language": "python",
   "name": "python3"
  },
  "language_info": {
   "codemirror_mode": {
    "name": "ipython",
    "version": 3
   },
   "file_extension": ".py",
   "mimetype": "text/x-python",
   "name": "python",
   "nbconvert_exporter": "python",
   "pygments_lexer": "ipython3",
   "version": "3.6.8"
  }
 },
 "nbformat": 4,
 "nbformat_minor": 2
}
